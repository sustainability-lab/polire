{
 "cells": [
  {
   "cell_type": "code",
   "execution_count": 8,
   "metadata": {},
   "outputs": [
    {
     "name": "stdout",
     "output_type": "stream",
     "text": [
      "The autoreload extension is already loaded. To reload it, use:\n",
      "  %reload_ext autoreload\n"
     ]
    }
   ],
   "source": [
    "%load_ext autoreload\n",
    "%autoreload 2"
   ]
  },
  {
   "cell_type": "code",
   "execution_count": 9,
   "metadata": {},
   "outputs": [],
   "source": [
    "from polire.random.random import Random\n",
    "from polire.trend.trend import Trend\n",
    "from polire.spline.bspline import BSpline\n",
    "from polire.gp.gp import GaussianProcess\n",
    "from sklearn.model_selection import train_test_split\n",
    "import matplotlib.pyplot as plt\n",
    "import numpy as np\n",
    "import pandas as pd\n",
    "from matplotlib import colors\n",
    "import seaborn as sns\n",
    "import sys"
   ]
  },
  {
   "cell_type": "code",
   "execution_count": 44,
   "metadata": {},
   "outputs": [],
   "source": [
    "df = pd.read_csv(\"../testdata/daily_44201_2018.csv\")"
   ]
  },
  {
   "cell_type": "code",
   "execution_count": 45,
   "metadata": {
    "scrolled": false
   },
   "outputs": [
    {
     "data": {
      "text/html": [
       "<div>\n",
       "<style scoped>\n",
       "    .dataframe tbody tr th:only-of-type {\n",
       "        vertical-align: middle;\n",
       "    }\n",
       "\n",
       "    .dataframe tbody tr th {\n",
       "        vertical-align: top;\n",
       "    }\n",
       "\n",
       "    .dataframe thead th {\n",
       "        text-align: right;\n",
       "    }\n",
       "</style>\n",
       "<table border=\"1\" class=\"dataframe\">\n",
       "  <thead>\n",
       "    <tr style=\"text-align: right;\">\n",
       "      <th></th>\n",
       "      <th>State Code</th>\n",
       "      <th>County Code</th>\n",
       "      <th>Site Num</th>\n",
       "      <th>Parameter Code</th>\n",
       "      <th>POC</th>\n",
       "      <th>Latitude</th>\n",
       "      <th>Longitude</th>\n",
       "      <th>Datum</th>\n",
       "      <th>Parameter Name</th>\n",
       "      <th>Sample Duration</th>\n",
       "      <th>...</th>\n",
       "      <th>AQI</th>\n",
       "      <th>Method Code</th>\n",
       "      <th>Method Name</th>\n",
       "      <th>Local Site Name</th>\n",
       "      <th>Address</th>\n",
       "      <th>State Name</th>\n",
       "      <th>County Name</th>\n",
       "      <th>City Name</th>\n",
       "      <th>CBSA Name</th>\n",
       "      <th>Date of Last Change</th>\n",
       "    </tr>\n",
       "  </thead>\n",
       "  <tbody>\n",
       "    <tr>\n",
       "      <th>0</th>\n",
       "      <td>1</td>\n",
       "      <td>3</td>\n",
       "      <td>10</td>\n",
       "      <td>44201</td>\n",
       "      <td>1</td>\n",
       "      <td>30.497478</td>\n",
       "      <td>-87.880258</td>\n",
       "      <td>NAD83</td>\n",
       "      <td>Ozone</td>\n",
       "      <td>8-HR RUN AVG BEGIN HOUR</td>\n",
       "      <td>...</td>\n",
       "      <td>21</td>\n",
       "      <td>NaN</td>\n",
       "      <td>-</td>\n",
       "      <td>FAIRHOPE, Alabama</td>\n",
       "      <td>FAIRHOPE HIGH SCHOOL, 1 PIRATE DRIVE, FAIRHOPE...</td>\n",
       "      <td>Alabama</td>\n",
       "      <td>Baldwin</td>\n",
       "      <td>Fairhope</td>\n",
       "      <td>Daphne-Fairhope-Foley, AL</td>\n",
       "      <td>2019-02-12</td>\n",
       "    </tr>\n",
       "    <tr>\n",
       "      <th>1</th>\n",
       "      <td>1</td>\n",
       "      <td>3</td>\n",
       "      <td>10</td>\n",
       "      <td>44201</td>\n",
       "      <td>1</td>\n",
       "      <td>30.497478</td>\n",
       "      <td>-87.880258</td>\n",
       "      <td>NAD83</td>\n",
       "      <td>Ozone</td>\n",
       "      <td>8-HR RUN AVG BEGIN HOUR</td>\n",
       "      <td>...</td>\n",
       "      <td>30</td>\n",
       "      <td>NaN</td>\n",
       "      <td>-</td>\n",
       "      <td>FAIRHOPE, Alabama</td>\n",
       "      <td>FAIRHOPE HIGH SCHOOL, 1 PIRATE DRIVE, FAIRHOPE...</td>\n",
       "      <td>Alabama</td>\n",
       "      <td>Baldwin</td>\n",
       "      <td>Fairhope</td>\n",
       "      <td>Daphne-Fairhope-Foley, AL</td>\n",
       "      <td>2019-02-12</td>\n",
       "    </tr>\n",
       "    <tr>\n",
       "      <th>2</th>\n",
       "      <td>1</td>\n",
       "      <td>3</td>\n",
       "      <td>10</td>\n",
       "      <td>44201</td>\n",
       "      <td>1</td>\n",
       "      <td>30.497478</td>\n",
       "      <td>-87.880258</td>\n",
       "      <td>NAD83</td>\n",
       "      <td>Ozone</td>\n",
       "      <td>8-HR RUN AVG BEGIN HOUR</td>\n",
       "      <td>...</td>\n",
       "      <td>41</td>\n",
       "      <td>NaN</td>\n",
       "      <td>-</td>\n",
       "      <td>FAIRHOPE, Alabama</td>\n",
       "      <td>FAIRHOPE HIGH SCHOOL, 1 PIRATE DRIVE, FAIRHOPE...</td>\n",
       "      <td>Alabama</td>\n",
       "      <td>Baldwin</td>\n",
       "      <td>Fairhope</td>\n",
       "      <td>Daphne-Fairhope-Foley, AL</td>\n",
       "      <td>2019-02-12</td>\n",
       "    </tr>\n",
       "  </tbody>\n",
       "</table>\n",
       "<p>3 rows × 29 columns</p>\n",
       "</div>"
      ],
      "text/plain": [
       "   State Code  County Code  Site Num  Parameter Code  POC   Latitude  \\\n",
       "0           1            3        10           44201    1  30.497478   \n",
       "1           1            3        10           44201    1  30.497478   \n",
       "2           1            3        10           44201    1  30.497478   \n",
       "\n",
       "   Longitude  Datum Parameter Name          Sample Duration  ... AQI  \\\n",
       "0 -87.880258  NAD83          Ozone  8-HR RUN AVG BEGIN HOUR  ...  21   \n",
       "1 -87.880258  NAD83          Ozone  8-HR RUN AVG BEGIN HOUR  ...  30   \n",
       "2 -87.880258  NAD83          Ozone  8-HR RUN AVG BEGIN HOUR  ...  41   \n",
       "\n",
       "  Method Code Method Name    Local Site Name  \\\n",
       "0         NaN          -   FAIRHOPE, Alabama   \n",
       "1         NaN          -   FAIRHOPE, Alabama   \n",
       "2         NaN          -   FAIRHOPE, Alabama   \n",
       "\n",
       "                                             Address  State Name  County Name  \\\n",
       "0  FAIRHOPE HIGH SCHOOL, 1 PIRATE DRIVE, FAIRHOPE...     Alabama      Baldwin   \n",
       "1  FAIRHOPE HIGH SCHOOL, 1 PIRATE DRIVE, FAIRHOPE...     Alabama      Baldwin   \n",
       "2  FAIRHOPE HIGH SCHOOL, 1 PIRATE DRIVE, FAIRHOPE...     Alabama      Baldwin   \n",
       "\n",
       "   City Name                  CBSA Name  Date of Last Change  \n",
       "0   Fairhope  Daphne-Fairhope-Foley, AL           2019-02-12  \n",
       "1   Fairhope  Daphne-Fairhope-Foley, AL           2019-02-12  \n",
       "2   Fairhope  Daphne-Fairhope-Foley, AL           2019-02-12  \n",
       "\n",
       "[3 rows x 29 columns]"
      ]
     },
     "execution_count": 45,
     "metadata": {},
     "output_type": "execute_result"
    }
   ],
   "source": [
    "df.head(3)"
   ]
  },
  {
   "cell_type": "code",
   "execution_count": 46,
   "metadata": {},
   "outputs": [
    {
     "data": {
      "text/plain": [
       "(1240, 29)"
      ]
     },
     "execution_count": 46,
     "metadata": {},
     "output_type": "execute_result"
    }
   ],
   "source": [
    "some_value = 'Ozone'\n",
    "df = df.loc[df['Parameter Name'] == some_value]\n",
    "\n",
    "some_value = '2018-05-07'\n",
    "df = df.loc[df['Date Local'] == some_value]\n",
    "\n",
    "df = df.sample(frac=1)\n",
    "df.shape"
   ]
  },
  {
   "cell_type": "code",
   "execution_count": 47,
   "metadata": {},
   "outputs": [
    {
     "data": {
      "text/html": [
       "<div>\n",
       "<style scoped>\n",
       "    .dataframe tbody tr th:only-of-type {\n",
       "        vertical-align: middle;\n",
       "    }\n",
       "\n",
       "    .dataframe tbody tr th {\n",
       "        vertical-align: top;\n",
       "    }\n",
       "\n",
       "    .dataframe thead th {\n",
       "        text-align: right;\n",
       "    }\n",
       "</style>\n",
       "<table border=\"1\" class=\"dataframe\">\n",
       "  <thead>\n",
       "    <tr style=\"text-align: right;\">\n",
       "      <th></th>\n",
       "      <th>State Code</th>\n",
       "      <th>County Code</th>\n",
       "      <th>Site Num</th>\n",
       "      <th>Parameter Code</th>\n",
       "      <th>POC</th>\n",
       "      <th>Latitude</th>\n",
       "      <th>Longitude</th>\n",
       "      <th>Datum</th>\n",
       "      <th>Parameter Name</th>\n",
       "      <th>Sample Duration</th>\n",
       "      <th>...</th>\n",
       "      <th>AQI</th>\n",
       "      <th>Method Code</th>\n",
       "      <th>Method Name</th>\n",
       "      <th>Local Site Name</th>\n",
       "      <th>Address</th>\n",
       "      <th>State Name</th>\n",
       "      <th>County Name</th>\n",
       "      <th>City Name</th>\n",
       "      <th>CBSA Name</th>\n",
       "      <th>Date of Last Change</th>\n",
       "    </tr>\n",
       "  </thead>\n",
       "  <tbody>\n",
       "    <tr>\n",
       "      <th>79762</th>\n",
       "      <td>6</td>\n",
       "      <td>95</td>\n",
       "      <td>4</td>\n",
       "      <td>44201</td>\n",
       "      <td>1</td>\n",
       "      <td>38.102507</td>\n",
       "      <td>-122.237976</td>\n",
       "      <td>WGS84</td>\n",
       "      <td>Ozone</td>\n",
       "      <td>8-HR RUN AVG BEGIN HOUR</td>\n",
       "      <td>...</td>\n",
       "      <td>38</td>\n",
       "      <td>NaN</td>\n",
       "      <td>-</td>\n",
       "      <td>Vallejo</td>\n",
       "      <td>304 TUOLUMNE ST.</td>\n",
       "      <td>California</td>\n",
       "      <td>Solano</td>\n",
       "      <td>Vallejo</td>\n",
       "      <td>Vallejo-Fairfield, CA</td>\n",
       "      <td>2019-01-28</td>\n",
       "    </tr>\n",
       "    <tr>\n",
       "      <th>54773</th>\n",
       "      <td>6</td>\n",
       "      <td>65</td>\n",
       "      <td>1010</td>\n",
       "      <td>44201</td>\n",
       "      <td>1</td>\n",
       "      <td>33.590833</td>\n",
       "      <td>-116.088333</td>\n",
       "      <td>WGS84</td>\n",
       "      <td>Ozone</td>\n",
       "      <td>8-HR RUN AVG BEGIN HOUR</td>\n",
       "      <td>...</td>\n",
       "      <td>84</td>\n",
       "      <td>NaN</td>\n",
       "      <td>-</td>\n",
       "      <td>Cabazon Resource Recovery Park Station</td>\n",
       "      <td>90-333 Avenue 63</td>\n",
       "      <td>California</td>\n",
       "      <td>Riverside</td>\n",
       "      <td>Not in a city</td>\n",
       "      <td>Riverside-San Bernardino-Ontario, CA</td>\n",
       "      <td>2019-02-13</td>\n",
       "    </tr>\n",
       "    <tr>\n",
       "      <th>191447</th>\n",
       "      <td>24</td>\n",
       "      <td>17</td>\n",
       "      <td>10</td>\n",
       "      <td>44201</td>\n",
       "      <td>1</td>\n",
       "      <td>38.508547</td>\n",
       "      <td>-76.811864</td>\n",
       "      <td>WGS84</td>\n",
       "      <td>Ozone</td>\n",
       "      <td>8-HR RUN AVG BEGIN HOUR</td>\n",
       "      <td>...</td>\n",
       "      <td>54</td>\n",
       "      <td>NaN</td>\n",
       "      <td>-</td>\n",
       "      <td>Southern Maryland</td>\n",
       "      <td>14320 Oaks Road</td>\n",
       "      <td>Maryland</td>\n",
       "      <td>Charles</td>\n",
       "      <td>Not in a city</td>\n",
       "      <td>Washington-Arlington-Alexandria, DC-VA-MD-WV</td>\n",
       "      <td>2019-01-09</td>\n",
       "    </tr>\n",
       "    <tr>\n",
       "      <th>107439</th>\n",
       "      <td>12</td>\n",
       "      <td>5</td>\n",
       "      <td>6</td>\n",
       "      <td>44201</td>\n",
       "      <td>1</td>\n",
       "      <td>30.130433</td>\n",
       "      <td>-85.731517</td>\n",
       "      <td>WGS84</td>\n",
       "      <td>Ozone</td>\n",
       "      <td>8-HR RUN AVG BEGIN HOUR</td>\n",
       "      <td>...</td>\n",
       "      <td>97</td>\n",
       "      <td>NaN</td>\n",
       "      <td>-</td>\n",
       "      <td>ST.ANDREWS STATE PARK, PANAMA CITY BEACH</td>\n",
       "      <td>4607 STATE PARK LN PCB,FL</td>\n",
       "      <td>Florida</td>\n",
       "      <td>Bay</td>\n",
       "      <td>Lower Grand Lagoon</td>\n",
       "      <td>Panama City, FL</td>\n",
       "      <td>2019-02-27</td>\n",
       "    </tr>\n",
       "    <tr>\n",
       "      <th>16659</th>\n",
       "      <td>4</td>\n",
       "      <td>13</td>\n",
       "      <td>9997</td>\n",
       "      <td>44201</td>\n",
       "      <td>1</td>\n",
       "      <td>33.503833</td>\n",
       "      <td>-112.095767</td>\n",
       "      <td>WGS84</td>\n",
       "      <td>Ozone</td>\n",
       "      <td>8-HR RUN AVG BEGIN HOUR</td>\n",
       "      <td>...</td>\n",
       "      <td>71</td>\n",
       "      <td>NaN</td>\n",
       "      <td>-</td>\n",
       "      <td>JLG SUPERSITE</td>\n",
       "      <td>4530 N 17TH AVENUE</td>\n",
       "      <td>Arizona</td>\n",
       "      <td>Maricopa</td>\n",
       "      <td>Phoenix</td>\n",
       "      <td>Phoenix-Mesa-Scottsdale, AZ</td>\n",
       "      <td>2019-01-10</td>\n",
       "    </tr>\n",
       "  </tbody>\n",
       "</table>\n",
       "<p>5 rows × 29 columns</p>\n",
       "</div>"
      ],
      "text/plain": [
       "        State Code  County Code  Site Num  Parameter Code  POC   Latitude  \\\n",
       "79762            6           95         4           44201    1  38.102507   \n",
       "54773            6           65      1010           44201    1  33.590833   \n",
       "191447          24           17        10           44201    1  38.508547   \n",
       "107439          12            5         6           44201    1  30.130433   \n",
       "16659            4           13      9997           44201    1  33.503833   \n",
       "\n",
       "         Longitude  Datum Parameter Name          Sample Duration  ... AQI  \\\n",
       "79762  -122.237976  WGS84          Ozone  8-HR RUN AVG BEGIN HOUR  ...  38   \n",
       "54773  -116.088333  WGS84          Ozone  8-HR RUN AVG BEGIN HOUR  ...  84   \n",
       "191447  -76.811864  WGS84          Ozone  8-HR RUN AVG BEGIN HOUR  ...  54   \n",
       "107439  -85.731517  WGS84          Ozone  8-HR RUN AVG BEGIN HOUR  ...  97   \n",
       "16659  -112.095767  WGS84          Ozone  8-HR RUN AVG BEGIN HOUR  ...  71   \n",
       "\n",
       "       Method Code Method Name                           Local Site Name  \\\n",
       "79762          NaN          -                                    Vallejo   \n",
       "54773          NaN          -     Cabazon Resource Recovery Park Station   \n",
       "191447         NaN          -                          Southern Maryland   \n",
       "107439         NaN          -   ST.ANDREWS STATE PARK, PANAMA CITY BEACH   \n",
       "16659          NaN          -                              JLG SUPERSITE   \n",
       "\n",
       "                          Address  State Name  County Name  \\\n",
       "79762            304 TUOLUMNE ST.  California       Solano   \n",
       "54773            90-333 Avenue 63  California    Riverside   \n",
       "191447            14320 Oaks Road    Maryland      Charles   \n",
       "107439  4607 STATE PARK LN PCB,FL     Florida          Bay   \n",
       "16659          4530 N 17TH AVENUE     Arizona     Maricopa   \n",
       "\n",
       "                 City Name                                     CBSA Name  \\\n",
       "79762              Vallejo                         Vallejo-Fairfield, CA   \n",
       "54773        Not in a city          Riverside-San Bernardino-Ontario, CA   \n",
       "191447       Not in a city  Washington-Arlington-Alexandria, DC-VA-MD-WV   \n",
       "107439  Lower Grand Lagoon                               Panama City, FL   \n",
       "16659              Phoenix                   Phoenix-Mesa-Scottsdale, AZ   \n",
       "\n",
       "        Date of Last Change  \n",
       "79762            2019-01-28  \n",
       "54773            2019-02-13  \n",
       "191447           2019-01-09  \n",
       "107439           2019-02-27  \n",
       "16659            2019-01-10  \n",
       "\n",
       "[5 rows x 29 columns]"
      ]
     },
     "execution_count": 47,
     "metadata": {},
     "output_type": "execute_result"
    }
   ],
   "source": [
    "df_train, df_test = train_test_split(df, test_size=0.2)\n",
    "df_train.head()"
   ]
  },
  {
   "cell_type": "code",
   "execution_count": 48,
   "metadata": {},
   "outputs": [
    {
     "data": {
      "text/plain": [
       "Index(['State Code', 'County Code', 'Site Num', 'Parameter Code', 'POC',\n",
       "       'Latitude', 'Longitude', 'Datum', 'Parameter Name', 'Sample Duration',\n",
       "       'Pollutant Standard', 'Date Local', 'Units of Measure', 'Event Type',\n",
       "       'Observation Count', 'Observation Percent', 'Arithmetic Mean',\n",
       "       '1st Max Value', '1st Max Hour', 'AQI', 'Method Code', 'Method Name',\n",
       "       'Local Site Name', 'Address', 'State Name', 'County Name', 'City Name',\n",
       "       'CBSA Name', 'Date of Last Change'],\n",
       "      dtype='object')"
      ]
     },
     "execution_count": 48,
     "metadata": {},
     "output_type": "execute_result"
    }
   ],
   "source": [
    "df.columns"
   ]
  },
  {
   "cell_type": "code",
   "execution_count": 49,
   "metadata": {},
   "outputs": [
    {
     "data": {
      "text/plain": [
       "<polire.random.random.Random at 0x7f5e6b3bb080>"
      ]
     },
     "execution_count": 49,
     "metadata": {},
     "output_type": "execute_result"
    }
   ],
   "source": [
    "r = Random(resolution='standard')\n",
    "trainX = df_train[['Longitude', 'Latitude']].values\n",
    "trainy = df_train['Arithmetic Mean'].values\n",
    "r.fit(trainX, trainy)"
   ]
  },
  {
   "cell_type": "code",
   "execution_count": 50,
   "metadata": {},
   "outputs": [],
   "source": [
    "testX = df_test[['Longitude', 'Latitude']].values\n",
    "testy = df_test['Arithmetic Mean'].values"
   ]
  },
  {
   "cell_type": "code",
   "execution_count": 51,
   "metadata": {},
   "outputs": [
    {
     "name": "stdout",
     "output_type": "stream",
     "text": [
      "-66.126531 64.84568999999999\n"
     ]
    }
   ],
   "source": [
    "x1max, x2max = np.max(trainX, axis=0)\n",
    "print (x1max, x2max)\n",
    "x1min, x2min = np.min(trainX, axis=0)"
   ]
  },
  {
   "cell_type": "code",
   "execution_count": 52,
   "metadata": {
    "scrolled": true
   },
   "outputs": [
    {
     "data": {
      "text/plain": [
       "(-158.08861299999998, -66.126531, 18.440774, 64.84568999999999)"
      ]
     },
     "execution_count": 52,
     "metadata": {},
     "output_type": "execute_result"
    }
   ],
   "source": [
    "x1min, x1max, x2min, x2max"
   ]
  },
  {
   "cell_type": "code",
   "execution_count": 53,
   "metadata": {},
   "outputs": [
    {
     "ename": "NameError",
     "evalue": "name 'idw' is not defined",
     "output_type": "error",
     "traceback": [
      "\u001b[0;31m---------------------------------------------------------------------------\u001b[0m",
      "\u001b[0;31mNameError\u001b[0m                                 Traceback (most recent call last)",
      "\u001b[0;32m<ipython-input-53-6e0b3d6b120e>\u001b[0m in \u001b[0;36m<module>\u001b[0;34m\u001b[0m\n\u001b[0;32m----> 1\u001b[0;31m \u001b[0mlss\u001b[0m \u001b[0;34m=\u001b[0m \u001b[0;34m[\u001b[0m\u001b[0mRandom\u001b[0m\u001b[0;34m(\u001b[0m\u001b[0;34m)\u001b[0m\u001b[0;34m,\u001b[0m \u001b[0mBSpline\u001b[0m\u001b[0;34m(\u001b[0m\u001b[0mkx\u001b[0m\u001b[0;34m=\u001b[0m\u001b[0;36m2\u001b[0m\u001b[0;34m,\u001b[0m \u001b[0mky\u001b[0m\u001b[0;34m=\u001b[0m\u001b[0;36m2\u001b[0m\u001b[0;34m)\u001b[0m\u001b[0;34m,\u001b[0m \u001b[0mTrend\u001b[0m\u001b[0;34m(\u001b[0m\u001b[0morder\u001b[0m\u001b[0;34m=\u001b[0m\u001b[0;36m2\u001b[0m\u001b[0;34m)\u001b[0m\u001b[0;34m,\u001b[0m \u001b[0mGaussianProcess\u001b[0m\u001b[0;34m(\u001b[0m\u001b[0;34m)\u001b[0m\u001b[0;34m,\u001b[0m \u001b[0midw\u001b[0m\u001b[0;34m(\u001b[0m\u001b[0;34m)\u001b[0m\u001b[0;34m]\u001b[0m\u001b[0;34m\u001b[0m\u001b[0;34m\u001b[0m\u001b[0m\n\u001b[0m",
      "\u001b[0;31mNameError\u001b[0m: name 'idw' is not defined"
     ]
    }
   ],
   "source": [
    "lss = [Random(), BSpline(kx=2, ky=2), Trend(order=2), GaussianProcess(), idw()]"
   ]
  },
  {
   "cell_type": "code",
   "execution_count": null,
   "metadata": {
    "scrolled": false
   },
   "outputs": [],
   "source": [
    "for r in lss:\n",
    "    r.fit(trainX, trainy)\n",
    "#     try:\n",
    "    Z = r.predict_grid((x1min, x1max), (x2min, x2max)).reshape(100, 100)\n",
    "    sns.heatmap(Z)\n",
    "    plt.title(r.__class__)\n",
    "    plt.show()\n",
    "    plt.close()\n",
    "#     except:\n",
    "#         print (f\"Was not able to. for {r.__class__}!\")\n"
   ]
  },
  {
   "cell_type": "code",
   "execution_count": null,
   "metadata": {},
   "outputs": [],
   "source": [
    "plt.figure(figsize=(14, 8))\n",
    "h = plt.scatter(trainX[:, 0], trainX[:, 1], c = trainy)\n",
    "plt.title(\"The training set used.\")\n",
    "plt.colorbar(h)"
   ]
  },
  {
   "cell_type": "code",
   "execution_count": null,
   "metadata": {
    "scrolled": false
   },
   "outputs": [],
   "source": [
    "for r in lss:\n",
    "    r.fit(trainX, trainy)\n",
    "    try:\n",
    "        fig, ax = plt.subplots(ncols=2, sharex=True, figsize=(16, 5))\n",
    "        pred_y = r.predict(testX)\n",
    "        vmin = min(testy)\n",
    "        vmax = max(testy)\n",
    "        norm = colors.Normalize(vmin=vmin, vmax=vmax)\n",
    "        inter = ax[0].scatter(testX[:, 0], testX[:, 1], c = pred_y)\n",
    "        ax[0].set_title(f\"Interpolation {r.__class__}\")\n",
    "        gt = ax[1].scatter(testX[:, 0], testX[:, 1], c = testy)\n",
    "        \n",
    "        # normalize colorbar\n",
    "        inter.set_norm(norm)\n",
    "        gt.set_norm(norm)\n",
    "        fig.colorbar(gt, ax=ax, orientation='horizontal', fraction=.1)\n",
    "        \n",
    "        ax[1].set_title(\"GT\")\n",
    "        plt.show()\n",
    "        \n",
    "    except NotImplementedError as e:\n",
    "        print (f\"Was not able to. for {r.__class__}!\")\n",
    "        print(str(e))"
   ]
  },
  {
   "cell_type": "code",
   "execution_count": null,
   "metadata": {},
   "outputs": [],
   "source": [
    "type(testX[:, 0])"
   ]
  },
  {
   "cell_type": "code",
   "execution_count": null,
   "metadata": {},
   "outputs": [],
   "source": [
    "r.predict"
   ]
  },
  {
   "cell_type": "code",
   "execution_count": null,
   "metadata": {},
   "outputs": [],
   "source": [
    "lims = 1, 3, 3, 5\n",
    "resolution = 12\n",
    "x1min, x1max, x2min, x2max = lims\n",
    "x1 = np.linspace(x1min, x1max, resolution)\n",
    "x2 = np.linspace(x2min, x2max, resolution)\n",
    "X1, X2 = np.meshgrid(x1, x2)"
   ]
  },
  {
   "cell_type": "code",
   "execution_count": null,
   "metadata": {},
   "outputs": [],
   "source": []
  }
 ],
 "metadata": {
  "kernelspec": {
   "display_name": "Python 3",
   "language": "python",
   "name": "python3"
  },
  "language_info": {
   "codemirror_mode": {
    "name": "ipython",
    "version": 3
   },
   "file_extension": ".py",
   "mimetype": "text/x-python",
   "name": "python",
   "nbconvert_exporter": "python",
   "pygments_lexer": "ipython3",
   "version": "3.6.8"
  }
 },
 "nbformat": 4,
 "nbformat_minor": 2
}
