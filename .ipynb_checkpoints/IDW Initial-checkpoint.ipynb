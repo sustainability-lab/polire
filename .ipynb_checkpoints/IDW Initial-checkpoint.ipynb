{
 "cells": [
  {
   "cell_type": "markdown",
   "metadata": {},
   "source": [
    "## Inverse Distance Weighting (IDW) Interpolation"
   ]
  },
  {
   "cell_type": "markdown",
   "metadata": {},
   "source": [
    "Let us suppose we have a data that shows the variation of one quantity of interest across space.\n",
    "This could be equivalently viewed as { ($\\vec{x_1}, y_1)$,$(\\vec{x_2}, y_2)$,$(\\vec{x_3}, y_3)$, ...}, where the $\\vec{x_i}$'s represent the coordinates of the points where we have data and the $y_i$'s are the actual data at those points. <br><br>\n",
    "We would like to perform an interpolation using these data points such that a few things are satisifed.\n",
    "1. The interpolation is exact - the value at the known data points is the same as the estimated value, and \n",
    "2. We would want far away points from a given source data point to receive less importance than nearby points.\n",
    "3. Wikipedia has an excellent article on IDW. I am linking it [here](https://en.wikipedia.org/wiki/Inverse_distance_weighting)."
   ]
  },
  {
   "cell_type": "code",
   "execution_count": null,
   "metadata": {},
   "outputs": [],
   "source": [
    "def idw(X, y, exponent = 2, extent, resolution='high'):\n",
    "    \"\"\"\n",
    "        Here X is the set of spatial locations - Usually assumed to be Lat-Long\n",
    "        To be extended to higher dimenstions y - estimated value , exponenet - how\n",
    "        much weight to assign to far off locations to be estimated for each data point, \n",
    "        extent - interpolate over a grid - what is xmax xmin ymax ymin\"\"\"\n",
    "    "
   ]
  },
  {
   "cell_type": "code",
   "execution_count": null,
   "metadata": {},
   "outputs": [],
   "source": [
    "import numpy as np\n",
    "x_arr = np.linspace(0,10,11)\n",
    "y_arr = np.linspace(0,10,10)\n",
    "import pandas as p\n"
   ]
  },
  {
   "cell_type": "code",
   "execution_count": null,
   "metadata": {},
   "outputs": [],
   "source": [
    "df = pd.read_csv('30-03-18.csv')"
   ]
  },
  {
   "cell_type": "code",
   "execution_count": null,
   "metadata": {},
   "outputs": [],
   "source": [
    "df.columns"
   ]
  },
  {
   "cell_type": "code",
   "execution_count": null,
   "metadata": {},
   "outputs": [],
   "source": [
    "df = df.drop('Unnamed: 0',axis=1)"
   ]
  },
  {
   "cell_type": "code",
   "execution_count": null,
   "metadata": {},
   "outputs": [],
   "source": [
    "y_min = df['latitude'].min()-0.2\n",
    "y_max = df['latitude'].max()+0.2\n",
    "x_min = df['longitude'].min()-0.2\n",
    "x_max = df['longitude'].max()+0.2"
   ]
  },
  {
   "cell_type": "code",
   "execution_count": null,
   "metadata": {},
   "outputs": [],
   "source": [
    "x_arr = np.linspace(x_min,x_max,100)"
   ]
  },
  {
   "cell_type": "code",
   "execution_count": null,
   "metadata": {},
   "outputs": [],
   "source": [
    "y_arr = np.linspace(y_min,y_max,100)"
   ]
  },
  {
   "cell_type": "code",
   "execution_count": null,
   "metadata": {},
   "outputs": [],
   "source": [
    "xx,yy = np.meshgrid(x_arr,y_arr)"
   ]
  },
  {
   "cell_type": "code",
   "execution_count": null,
   "metadata": {},
   "outputs": [],
   "source": [
    "data = np.zeros((len(xx),len(yy)))"
   ]
  },
  {
   "cell_type": "code",
   "execution_count": null,
   "metadata": {},
   "outputs": [],
   "source": [
    "new_arr = np.array(df[['longitude','latitude','value']])"
   ]
  },
  {
   "cell_type": "code",
   "execution_count": null,
   "metadata": {},
   "outputs": [],
   "source": [
    "new_arr[0]"
   ]
  },
  {
   "cell_type": "code",
   "execution_count": null,
   "metadata": {},
   "outputs": [],
   "source": [
    "new = []\n",
    "for points in new_arr:\n",
    "    mindist = np.inf\n",
    "    val = 0\n",
    "    for j in range(len(yy)):\n",
    "        temp = yy[j][0]\n",
    "        for i in range(len(xx[0])):\n",
    "            dist = np.linalg.norm(np.array([xx[0][i],temp]) - points[:2])\n",
    "            if dist<mindist:\n",
    "                mindist = dist\n",
    "                val = (i,j)\n",
    "#             print(dist,xx[0][i],temp,j,i)\n",
    "    new.append((points,val))"
   ]
  },
  {
   "cell_type": "code",
   "execution_count": null,
   "metadata": {},
   "outputs": [],
   "source": [
    "new"
   ]
  },
  {
   "cell_type": "code",
   "execution_count": null,
   "metadata": {},
   "outputs": [],
   "source": [
    "new[0][1]"
   ]
  },
  {
   "cell_type": "code",
   "execution_count": null,
   "metadata": {},
   "outputs": [],
   "source": [
    "new[0]"
   ]
  },
  {
   "cell_type": "code",
   "execution_count": null,
   "metadata": {},
   "outputs": [],
   "source": [
    "new_grid = np.zeros((len(xx),len(yy)))\n",
    "for i in range(len(new)):\n",
    "    x = new[i][1][0]\n",
    "    y = new[i][1][1]\n",
    "    new_grid[x][y] = new[i][0][2]"
   ]
  },
  {
   "cell_type": "code",
   "execution_count": 1,
   "metadata": {},
   "outputs": [
    {
     "ename": "ModuleNotFoundError",
     "evalue": "No module named 'OCC'",
     "output_type": "error",
     "traceback": [
      "\u001b[0;31m---------------------------------------------------------------------------\u001b[0m",
      "\u001b[0;31mModuleNotFoundError\u001b[0m                       Traceback (most recent call last)",
      "\u001b[0;32m<ipython-input-1-2a464af36852>\u001b[0m in \u001b[0;36m<module>\u001b[0;34m\u001b[0m\n\u001b[0;32m----> 1\u001b[0;31m \u001b[0;32mfrom\u001b[0m \u001b[0mpygem\u001b[0m\u001b[0;34m.\u001b[0m\u001b[0midw\u001b[0m \u001b[0;32mimport\u001b[0m \u001b[0mIDW\u001b[0m\u001b[0;34m\u001b[0m\u001b[0;34m\u001b[0m\u001b[0m\n\u001b[0m\u001b[1;32m      2\u001b[0m \u001b[0;32mfrom\u001b[0m \u001b[0mpygem\u001b[0m\u001b[0;34m.\u001b[0m\u001b[0mparams_idw\u001b[0m \u001b[0;32mimport\u001b[0m \u001b[0mIDWParameters\u001b[0m\u001b[0;34m\u001b[0m\u001b[0;34m\u001b[0m\u001b[0m\n\u001b[1;32m      3\u001b[0m \u001b[0;32mimport\u001b[0m \u001b[0mnumpy\u001b[0m \u001b[0;32mas\u001b[0m \u001b[0mnp\u001b[0m\u001b[0;34m\u001b[0m\u001b[0;34m\u001b[0m\u001b[0m\n\u001b[1;32m      4\u001b[0m \u001b[0mparams\u001b[0m \u001b[0;34m=\u001b[0m \u001b[0mIDWParameters\u001b[0m\u001b[0;34m(\u001b[0m\u001b[0;34m)\u001b[0m\u001b[0;34m\u001b[0m\u001b[0;34m\u001b[0m\u001b[0m\n\u001b[1;32m      5\u001b[0m \u001b[0mparams\u001b[0m\u001b[0;34m.\u001b[0m\u001b[0mread_parameters\u001b[0m\u001b[0;34m(\u001b[0m\u001b[0;34m'tests/test_datasets/parameters_idw_cube.prm'\u001b[0m\u001b[0;34m)\u001b[0m\u001b[0;34m\u001b[0m\u001b[0;34m\u001b[0m\u001b[0m\n",
      "\u001b[0;32m~/anaconda3/lib/python3.6/site-packages/pygem-1.1-py3.6.egg/pygem/__init__.py\u001b[0m in \u001b[0;36m<module>\u001b[0;34m\u001b[0m\n\u001b[1;32m     17\u001b[0m \u001b[0;32mfrom\u001b[0m \u001b[0;34m.\u001b[0m\u001b[0munvhandler\u001b[0m \u001b[0;32mimport\u001b[0m \u001b[0mUnvHandler\u001b[0m\u001b[0;34m\u001b[0m\u001b[0;34m\u001b[0m\u001b[0m\n\u001b[1;32m     18\u001b[0m \u001b[0;32mfrom\u001b[0m \u001b[0;34m.\u001b[0m\u001b[0mvtkhandler\u001b[0m \u001b[0;32mimport\u001b[0m \u001b[0mVtkHandler\u001b[0m\u001b[0;34m\u001b[0m\u001b[0;34m\u001b[0m\u001b[0m\n\u001b[0;32m---> 19\u001b[0;31m \u001b[0;32mfrom\u001b[0m \u001b[0;34m.\u001b[0m\u001b[0mnurbshandler\u001b[0m \u001b[0;32mimport\u001b[0m \u001b[0mNurbsHandler\u001b[0m\u001b[0;34m\u001b[0m\u001b[0;34m\u001b[0m\u001b[0m\n\u001b[0m\u001b[1;32m     20\u001b[0m \u001b[0;32mfrom\u001b[0m \u001b[0;34m.\u001b[0m\u001b[0mstephandler\u001b[0m \u001b[0;32mimport\u001b[0m \u001b[0mStepHandler\u001b[0m\u001b[0;34m\u001b[0m\u001b[0;34m\u001b[0m\u001b[0m\n\u001b[1;32m     21\u001b[0m \u001b[0;32mfrom\u001b[0m \u001b[0;34m.\u001b[0m\u001b[0migeshandler\u001b[0m \u001b[0;32mimport\u001b[0m \u001b[0mIgesHandler\u001b[0m\u001b[0;34m\u001b[0m\u001b[0;34m\u001b[0m\u001b[0m\n",
      "\u001b[0;32m~/anaconda3/lib/python3.6/site-packages/pygem-1.1-py3.6.egg/pygem/nurbshandler.py\u001b[0m in \u001b[0;36m<module>\u001b[0;34m\u001b[0m\n\u001b[1;32m      7\u001b[0m \u001b[0;32mimport\u001b[0m \u001b[0mos\u001b[0m\u001b[0;34m\u001b[0m\u001b[0;34m\u001b[0m\u001b[0m\n\u001b[1;32m      8\u001b[0m \u001b[0;32mimport\u001b[0m \u001b[0mnumpy\u001b[0m \u001b[0;32mas\u001b[0m \u001b[0mnp\u001b[0m\u001b[0;34m\u001b[0m\u001b[0;34m\u001b[0m\u001b[0m\n\u001b[0;32m----> 9\u001b[0;31m \u001b[0;32mfrom\u001b[0m \u001b[0mOCC\u001b[0m\u001b[0;34m.\u001b[0m\u001b[0mBRep\u001b[0m \u001b[0;32mimport\u001b[0m \u001b[0mBRep_Tool\u001b[0m\u001b[0;34m,\u001b[0m \u001b[0mBRep_Builder\u001b[0m\u001b[0;34m,\u001b[0m \u001b[0mBRep_Tool_Curve\u001b[0m\u001b[0;34m\u001b[0m\u001b[0;34m\u001b[0m\u001b[0m\n\u001b[0m\u001b[1;32m     10\u001b[0m \u001b[0;32mfrom\u001b[0m \u001b[0mOCC\u001b[0m\u001b[0;34m.\u001b[0m\u001b[0mBRepAlgo\u001b[0m \u001b[0;32mimport\u001b[0m \u001b[0mbrepalgo_IsValid\u001b[0m\u001b[0;34m\u001b[0m\u001b[0;34m\u001b[0m\u001b[0m\n\u001b[1;32m     11\u001b[0m from OCC.BRepBuilderAPI import (\n",
      "\u001b[0;31mModuleNotFoundError\u001b[0m: No module named 'OCC'"
     ]
    }
   ],
   "source": [
    "from pygem.idw import IDW\n",
    "from pygem.params_idw import IDWParameters\n",
    "import numpy as np\n",
    "params = IDWParameters()\n",
    "params.read_parameters('tests/test_datasets/parameters_idw_cube.prm')\n",
    "nx, ny, nz = (20, 20, 20)\n",
    "mesh = np.zeros((nx * ny * nz, 3))\n",
    "xv = np.linspace(0, 1, nx)\n",
    "yv = np.linspace(0, 1, ny)\n",
    "zv = np.linspace(0, 1, nz)\n",
    "z, y, x = np.meshgrid(zv, yv, xv)\n",
    "mesh = np.array([x.ravel(), y.ravel(), z.ravel()])\n",
    "original_mesh_points = mesh.T\n",
    "idw = IDW(rbf_parameters, original_mesh_points)\n",
    "idw.perform()\n",
    "new_mesh_points = idw.modified_mesh_points\n"
   ]
  },
  {
   "cell_type": "code",
   "execution_count": 2,
   "metadata": {},
   "outputs": [
    {
     "name": "stdout",
     "output_type": "stream",
     "text": [
      "Collecting OCC\n",
      "\u001b[31m  Could not find a version that satisfies the requirement OCC (from versions: )\u001b[0m\n",
      "\u001b[31mNo matching distribution found for OCC\u001b[0m\n"
     ]
    }
   ],
   "source": [
    "!pip install OCC"
   ]
  },
  {
   "cell_type": "code",
   "execution_count": null,
   "metadata": {},
   "outputs": [],
   "source": []
  }
 ],
 "metadata": {
  "kernelspec": {
   "display_name": "Python 3",
   "language": "python",
   "name": "python3"
  },
  "language_info": {
   "codemirror_mode": {
    "name": "ipython",
    "version": 3
   },
   "file_extension": ".py",
   "mimetype": "text/x-python",
   "name": "python",
   "nbconvert_exporter": "python",
   "pygments_lexer": "ipython3",
   "version": "3.6.8"
  }
 },
 "nbformat": 4,
 "nbformat_minor": 2
}
