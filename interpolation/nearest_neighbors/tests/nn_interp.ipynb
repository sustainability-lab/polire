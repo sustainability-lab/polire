{
 "cells": [
  {
   "cell_type": "code",
   "execution_count": 1,
   "metadata": {},
   "outputs": [],
   "source": [
    "from sklearn.neighbors import KNeighborsRegressor"
   ]
  },
  {
   "cell_type": "code",
   "execution_count": 13,
   "metadata": {},
   "outputs": [],
   "source": [
    "def make_grid(X,y,res):\n",
    "    y_min = y.min()-0.2\n",
    "    y_max = y.max()+0.2\n",
    "    x_min = X.min()-0.2\n",
    "    x_max = X.max()+0.2\n",
    "    x_arr = np.linspace(x_min,x_max,res)\n",
    "    y_arr = np.linspace(y_min,y_max,res)\n",
    "    xx,yy = np.meshgrid(x_arr,y_arr)  \n",
    "    return xx,yy\n"
   ]
  },
  {
   "cell_type": "code",
   "execution_count": null,
   "metadata": {},
   "outputs": [],
   "source": [
    "\n",
    "\n",
    "def nearest_neighbors(dataset, neighbors = 5, resolution='standard', coordinate_type='euclidean',verbose='False'):\n",
    "    if coordinate_type == 'latlong_small':\n",
    "        \"\"\"\n",
    "            Assume that the Earth is a Sphere, and use polar coordinates\n",
    "            $| \\vec{r_2}− \\vec{r_1}| ≈ \\text{R }\\times \\sqrt[]{(Lat_2 - Lat_1)^{2} + (Long_2 - Long_1)^{2}}$\n",
    "        \"\"\"\n",
    "        return \"To be done later\"\n",
    "    if coordinate_type == 'latlong_large':\n",
    "        \"\"\"\n",
    "            Code to be written after understanding all the projections.\n",
    "        \"\"\"\n",
    "        return \"To be done later\"\n",
    "    if coordinate_type==\"euclidean\":\n",
    "        knn = KNeighborsRegressor(n_neighbors=neighbors)\n",
    "        knn.fit(dataset[:,:2],dataset[:,2])\n",
    "        \n",
    "        if resolution=='high':\n",
    "            xx,yy = make_grid(X,y,1000)\n",
    "            \n",
    "        elif resolution=='low':\n",
    "            xx,yy = make_grid(X,y,10)\n",
    "            \n",
    "        elif resolution=='standard':\n",
    "            xx,yy = make_grid(X,y,100)\n",
    "            \n",
    "        new_grid = np.zeros((len(xx),len(yy)))\n",
    "        \n",
    "        for i in range(len(xx[0])):\n",
    "            for j in range(len(yy)):"
   ]
  },
  {
   "cell_type": "code",
   "execution_count": 11,
   "metadata": {},
   "outputs": [
    {
     "data": {
      "text/plain": [
       "KNeighborsRegressor(algorithm='auto', leaf_size=30, metric='minkowski',\n",
       "          metric_params=None, n_jobs=1, n_neighbors=5, p=2,\n",
       "          weights='uniform')"
      ]
     },
     "execution_count": 11,
     "metadata": {},
     "output_type": "execute_result"
    }
   ],
   "source": [
    "knn = KNeighborsRegressor(n_neighbors=5)\n",
    "knn.fit(data[:,:2],data[:,2])"
   ]
  },
  {
   "cell_type": "code",
   "execution_count": 12,
   "metadata": {},
   "outputs": [
    {
     "data": {
      "text/plain": [
       "array([135.4])"
      ]
     },
     "execution_count": 12,
     "metadata": {},
     "output_type": "execute_result"
    }
   ],
   "source": [
    "knn.predict([[12.5,14]])"
   ]
  },
  {
   "cell_type": "code",
   "execution_count": 14,
   "metadata": {},
   "outputs": [],
   "source": [
    "xx,yy = make_grid(data[:,0],data[:,1],100)"
   ]
  },
  {
   "cell_type": "code",
   "execution_count": 8,
   "metadata": {},
   "outputs": [],
   "source": [
    "data = np.array(df[['longitude','latitude','value']])"
   ]
  },
  {
   "cell_type": "code",
   "execution_count": 17,
   "metadata": {},
   "outputs": [],
   "source": [
    "new_grid = np.zeros((len(xx),len(yy)))"
   ]
  },
  {
   "cell_type": "code",
   "execution_count": 10,
   "metadata": {},
   "outputs": [
    {
     "data": {
      "text/plain": [
       "array([194., 267., 273., 129., 176., 172., 168., 105., 203., 192.,  95.,\n",
       "       148., 203., 221., 141., 192., 203., 152., 185., 290., 273., 173.,\n",
       "       269., 160.,  78., 211., 252., 133.,  77.,  96.])"
      ]
     },
     "execution_count": 10,
     "metadata": {},
     "output_type": "execute_result"
    }
   ],
   "source": [
    "data[:,2]"
   ]
  },
  {
   "cell_type": "code",
   "execution_count": 4,
   "metadata": {},
   "outputs": [
    {
     "data": {
      "text/html": [
       "<div>\n",
       "<style scoped>\n",
       "    .dataframe tbody tr th:only-of-type {\n",
       "        vertical-align: middle;\n",
       "    }\n",
       "\n",
       "    .dataframe tbody tr th {\n",
       "        vertical-align: top;\n",
       "    }\n",
       "\n",
       "    .dataframe thead th {\n",
       "        text-align: right;\n",
       "    }\n",
       "</style>\n",
       "<table border=\"1\" class=\"dataframe\">\n",
       "  <thead>\n",
       "    <tr style=\"text-align: right;\">\n",
       "      <th></th>\n",
       "      <th>Unnamed: 0</th>\n",
       "      <th>location</th>\n",
       "      <th>parameter</th>\n",
       "      <th>value</th>\n",
       "      <th>latitude</th>\n",
       "      <th>longitude</th>\n",
       "    </tr>\n",
       "  </thead>\n",
       "  <tbody>\n",
       "    <tr>\n",
       "      <th>0</th>\n",
       "      <td>4087</td>\n",
       "      <td>Jawaharlal Nehru Stadium, Delhi - DPCC</td>\n",
       "      <td>pm25</td>\n",
       "      <td>194.0</td>\n",
       "      <td>28.581197</td>\n",
       "      <td>77.234291</td>\n",
       "    </tr>\n",
       "    <tr>\n",
       "      <th>1</th>\n",
       "      <td>3930</td>\n",
       "      <td>Sonia Vihar, Delhi - DPCC</td>\n",
       "      <td>pm25</td>\n",
       "      <td>267.0</td>\n",
       "      <td>28.739434</td>\n",
       "      <td>77.245721</td>\n",
       "    </tr>\n",
       "    <tr>\n",
       "      <th>2</th>\n",
       "      <td>4020</td>\n",
       "      <td>Narela, Delhi - DPCC</td>\n",
       "      <td>pm25</td>\n",
       "      <td>273.0</td>\n",
       "      <td>28.822931</td>\n",
       "      <td>77.101961</td>\n",
       "    </tr>\n",
       "    <tr>\n",
       "      <th>3</th>\n",
       "      <td>4057</td>\n",
       "      <td>Najafgarh, Delhi - DPCC</td>\n",
       "      <td>pm25</td>\n",
       "      <td>129.0</td>\n",
       "      <td>28.620806</td>\n",
       "      <td>76.991463</td>\n",
       "    </tr>\n",
       "    <tr>\n",
       "      <th>4</th>\n",
       "      <td>3998</td>\n",
       "      <td>NSIT Dwarka, New Delhi - CPCB</td>\n",
       "      <td>pm25</td>\n",
       "      <td>176.0</td>\n",
       "      <td>28.609090</td>\n",
       "      <td>77.032541</td>\n",
       "    </tr>\n",
       "    <tr>\n",
       "      <th>5</th>\n",
       "      <td>4104</td>\n",
       "      <td>Dwarka-Sector 8, Delhi - DPCC</td>\n",
       "      <td>pm25</td>\n",
       "      <td>172.0</td>\n",
       "      <td>28.570859</td>\n",
       "      <td>77.072196</td>\n",
       "    </tr>\n",
       "    <tr>\n",
       "      <th>6</th>\n",
       "      <td>4009</td>\n",
       "      <td>R K Puram, New Delhi - DPCC</td>\n",
       "      <td>pm25</td>\n",
       "      <td>168.0</td>\n",
       "      <td>28.564610</td>\n",
       "      <td>77.167010</td>\n",
       "    </tr>\n",
       "    <tr>\n",
       "      <th>7</th>\n",
       "      <td>4099</td>\n",
       "      <td>IGI Airport Terminal - 3, New Delhi - IMD</td>\n",
       "      <td>pm25</td>\n",
       "      <td>105.0</td>\n",
       "      <td>28.562776</td>\n",
       "      <td>77.118005</td>\n",
       "    </tr>\n",
       "    <tr>\n",
       "      <th>8</th>\n",
       "      <td>4074</td>\n",
       "      <td>Okhla Phase-2, Delhi - DPCC</td>\n",
       "      <td>pm25</td>\n",
       "      <td>203.0</td>\n",
       "      <td>28.530782</td>\n",
       "      <td>77.272404</td>\n",
       "    </tr>\n",
       "    <tr>\n",
       "      <th>9</th>\n",
       "      <td>4068</td>\n",
       "      <td>Nehru Nagar, Delhi - DPCC</td>\n",
       "      <td>pm25</td>\n",
       "      <td>192.0</td>\n",
       "      <td>28.563827</td>\n",
       "      <td>77.260750</td>\n",
       "    </tr>\n",
       "  </tbody>\n",
       "</table>\n",
       "</div>"
      ],
      "text/plain": [
       "   Unnamed: 0                                   location parameter  value  \\\n",
       "0        4087     Jawaharlal Nehru Stadium, Delhi - DPCC      pm25  194.0   \n",
       "1        3930                  Sonia Vihar, Delhi - DPCC      pm25  267.0   \n",
       "2        4020                       Narela, Delhi - DPCC      pm25  273.0   \n",
       "3        4057                    Najafgarh, Delhi - DPCC      pm25  129.0   \n",
       "4        3998              NSIT Dwarka, New Delhi - CPCB      pm25  176.0   \n",
       "5        4104             Dwarka-Sector 8, Delhi - DPCC       pm25  172.0   \n",
       "6        4009                R K Puram, New Delhi - DPCC      pm25  168.0   \n",
       "7        4099  IGI Airport Terminal - 3, New Delhi - IMD      pm25  105.0   \n",
       "8        4074                Okhla Phase-2, Delhi - DPCC      pm25  203.0   \n",
       "9        4068                  Nehru Nagar, Delhi - DPCC      pm25  192.0   \n",
       "\n",
       "    latitude  longitude  \n",
       "0  28.581197  77.234291  \n",
       "1  28.739434  77.245721  \n",
       "2  28.822931  77.101961  \n",
       "3  28.620806  76.991463  \n",
       "4  28.609090  77.032541  \n",
       "5  28.570859  77.072196  \n",
       "6  28.564610  77.167010  \n",
       "7  28.562776  77.118005  \n",
       "8  28.530782  77.272404  \n",
       "9  28.563827  77.260750  "
      ]
     },
     "execution_count": 4,
     "metadata": {},
     "output_type": "execute_result"
    }
   ],
   "source": [
    "import pandas as pd\n",
    "import numpy as np\n",
    "df = pd.read_csv('../test_data/30-03-18.csv')\n",
    "df.head(10)"
   ]
  },
  {
   "cell_type": "code",
   "execution_count": 24,
   "metadata": {},
   "outputs": [
    {
     "data": {
      "text/plain": [
       "array([219.])"
      ]
     },
     "execution_count": 24,
     "metadata": {},
     "output_type": "execute_result"
    }
   ],
   "source": [
    "knn.predict([[77,29]])"
   ]
  },
  {
   "cell_type": "code",
   "execution_count": 26,
   "metadata": {},
   "outputs": [],
   "source": [
    "for j in range(len(yy[:,0])):\n",
    "    for i in range(len(xx)):\n",
    "        new_grid[i][j] = float(knn.predict([[xx[0][i],yy[j][0]]]))"
   ]
  },
  {
   "cell_type": "code",
   "execution_count": 27,
   "metadata": {},
   "outputs": [
    {
     "data": {
      "text/plain": [
       "array([[135.4, 135.4, 135.4, ..., 171.6, 171.6, 171.6],\n",
       "       [135.4, 135.4, 135.4, ..., 171.6, 171.6, 191. ],\n",
       "       [135.4, 135.4, 135.4, ..., 171.6, 191. , 191. ],\n",
       "       ...,\n",
       "       [171.6, 171.6, 171.6, ..., 236.4, 236.4, 236.4],\n",
       "       [171.6, 171.6, 171.6, ..., 236.4, 236.4, 236.4],\n",
       "       [171.6, 171.6, 175.4, ..., 236.4, 236.4, 236.4]])"
      ]
     },
     "execution_count": 27,
     "metadata": {},
     "output_type": "execute_result"
    }
   ],
   "source": [
    "new_grid"
   ]
  }
 ],
 "metadata": {
  "kernelspec": {
   "display_name": "Python 3",
   "language": "python",
   "name": "python3"
  },
  "language_info": {
   "codemirror_mode": {
    "name": "ipython",
    "version": 3
   },
   "file_extension": ".py",
   "mimetype": "text/x-python",
   "name": "python",
   "nbconvert_exporter": "python",
   "pygments_lexer": "ipython3",
   "version": "3.6.8"
  }
 },
 "nbformat": 4,
 "nbformat_minor": 2
}
