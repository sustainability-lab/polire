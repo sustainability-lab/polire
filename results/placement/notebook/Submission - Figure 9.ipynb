{
 "cells": [
  {
   "cell_type": "markdown",
   "metadata": {},
   "source": [
    "## Standard Imports"
   ]
  },
  {
   "cell_type": "code",
   "execution_count": 1,
   "metadata": {},
   "outputs": [],
   "source": [
    "import pandas as pd\n",
    "import numpy as np\n",
    "from IPython.display import clear_output\n",
    "import matplotlib.pyplot as plt\n",
    "from matplotlib.animation import FuncAnimation\n",
    "from polire.placement import NottDuns, Stationary"
   ]
  },
  {
   "cell_type": "markdown",
   "metadata": {},
   "source": [
    "## Data Loading"
   ]
  },
  {
   "cell_type": "code",
   "execution_count": 3,
   "metadata": {},
   "outputs": [
    {
     "name": "stdout",
     "output_type": "stream",
     "text": [
      "(181, 52) 181 (52, 52)\n"
     ]
    }
   ],
   "source": [
    "tdata = pd.read_pickle('/home/patel_zeel/Krause-NOSP-Replication/Data/TempData.pickle')\n",
    "tdata = tdata['2004-02-28':'2004-03-01']\n",
    "loc_df = pd.read_csv('/home/patel_zeel/Krause-NOSP-Replication/Intel Data/mote_locs.txt', sep=' ',names=[0,'X','Y']).set_index(0)\n",
    "M = 22\n",
    "cross_df = pd.crosstab(tdata.index, tdata.ID, tdata.Temp, aggfunc=lambda x:list(x)[0])\n",
    "cross_df = cross_df.resample(str(M)+'min').mean().dropna(how='any')\n",
    "print(cross_df.shape, len(cross_df.dropna()), cross_df.cov().dropna().shape)\n",
    "\n",
    "G_all = (((cross_df - cross_df.mean()).T).dot(cross_df - cross_df.mean())/len(cross_df)) # Estim. Cov. Mat.\n",
    "G_all_npcov = cross_df.cov()\n",
    "train_data = loc_df.loc[cross_df.columns][['X','Y']]\n",
    "train_data['Temp'] = cross_df.mean()"
   ]
  },
  {
   "cell_type": "markdown",
   "metadata": {},
   "source": [
    "## Destroying ID to maintain consistency between pandas and numpy"
   ]
  },
  {
   "cell_type": "code",
   "execution_count": 4,
   "metadata": {},
   "outputs": [],
   "source": [
    "train_data = train_data.reset_index(drop=True)\n",
    "G_all = pd.DataFrame(G_all.values, index=range(len(train_data)), columns=range(len(train_data)))"
   ]
  },
  {
   "cell_type": "markdown",
   "metadata": {},
   "source": [
    "## Visualize all sensor locations in the 2D space"
   ]
  },
  {
   "cell_type": "code",
   "execution_count": 5,
   "metadata": {},
   "outputs": [
    {
     "data": {
      "text/plain": [
       "<matplotlib.collections.PathCollection at 0x7f13fb00da90>"
      ]
     },
     "execution_count": 5,
     "metadata": {},
     "output_type": "execute_result"
    },
    {
     "data": {
      "image/png": "[encoded data removed]",
      "text/plain": [
       "<Figure size 432x288 with 1 Axes>"
      ]
     },
     "metadata": {
      "needs_background": "light"
     },
     "output_type": "display_data"
    }
   ],
   "source": [
    "plt.scatter(train_data['X'], train_data['Y'])"
   ]
  },
  {
   "cell_type": "markdown",
   "metadata": {},
   "source": [
    "## Visualize train sensor locations in the 2D space"
   ]
  },
  {
   "cell_type": "code",
   "execution_count": 8,
   "metadata": {},
   "outputs": [
    {
     "name": "stdout",
     "output_type": "stream",
     "text": [
      "(10, 3) (10, 10)\n"
     ]
    },
    {
     "data": {
      "image/png": "[encoded data removed]",
      "text/plain": [
       "<Figure size 432x288 with 1 Axes>"
      ]
     },
     "metadata": {
      "needs_background": "light"
     },
     "output_type": "display_data"
    }
   ],
   "source": [
    "Seed = 42\n",
    "train_sample = train_data.sample(10, random_state=Seed)\n",
    "G = G_all.loc[train_sample.index, train_sample.index]\n",
    "print(train_sample.shape, G.shape)\n",
    "plt.scatter(train_sample['X'], train_sample['Y'])\n",
    "\n",
    "X_train = train_sample[['X','Y']].values\n",
    "y_train = train_sample[['Temp']].values.reshape(-1,1)"
   ]
  },
  {
   "cell_type": "markdown",
   "metadata": {},
   "source": [
    "## Learning the model"
   ]
  },
  {
   "cell_type": "code",
   "execution_count": 9,
   "metadata": {},
   "outputs": [],
   "source": [
    "nonStat = NottDuns(N=5, eta=1)\n",
    "nonStat.fit(X_train, X_train, G.values)"
   ]
  },
  {
   "cell_type": "markdown",
   "metadata": {},
   "source": [
    "## Greedy algorithm for Near Optimal Sensor Placement!"
   ]
  },
  {
   "cell_type": "code",
   "execution_count": 10,
   "metadata": {
    "scrolled": true
   },
   "outputs": [],
   "source": [
    "NN = 30\n",
    "Pilot_ind = train_sample.index.tolist()\n",
    "A_ind_MI, _ = nonStat.place(train_data[['X', 'Y']].values, Pilot_ind, N=NN, method='MI')\n",
    "A_ind_Var, _ = nonStat.place(train_data[['X', 'Y']].values, Pilot_ind, N=NN, method='Entropy')\n",
    "MI = nonStat.MI\n",
    "Var = nonStat.Var"
   ]
  },
  {
   "cell_type": "markdown",
   "metadata": {},
   "source": [
    "## Visualizing sensor placements/"
   ]
  },
  {
   "cell_type": "code",
   "execution_count": 12,
   "metadata": {},
   "outputs": [
    {
     "data": {
      "image/png": "[encoded data removed]",
      "text/plain": [
       "<Figure size 432x288 with 1 Axes>"
      ]
     },
     "metadata": {
      "needs_background": "light"
     },
     "output_type": "display_data"
    }
   ],
   "source": [
    "fig, ax = plt.subplots()\n",
    "iteration = 8\n",
    "ax.scatter(train_data.X[::-1], train_data.Y[::-1], alpha=0.1, label='ALL')\n",
    "ax.scatter(train_data.loc[A_ind_MI[:iteration]]['X'][::-1], train_data.loc[A_ind_MI[:iteration]]['Y'][::-1], label='MI')\n",
    "ax.scatter(train_data.loc[A_ind_Var[:iteration]]['X'][::-1], train_data.loc[A_ind_Var[:iteration]]['Y'][::-1], label='Entropy')\n",
    "ax.legend(bbox_to_anchor=(1,0.5))\n",
    "plt.tight_layout()\n",
    "plt.show()"
   ]
  },
  {
   "cell_type": "code",
   "execution_count": null,
   "metadata": {},
   "outputs": [],
   "source": []
  }
 ],
 "metadata": {
  "kernelspec": {
   "display_name": "Python 3",
   "language": "python",
   "name": "python3"
  },
  "language_info": {
   "codemirror_mode": {
    "name": "ipython",
    "version": 3
   },
   "file_extension": ".py",
   "mimetype": "text/x-python",
   "name": "python",
   "nbconvert_exporter": "python",
   "pygments_lexer": "ipython3",
   "version": "3.7.4"
  }
 },
 "nbformat": 4,
 "nbformat_minor": 2
}
