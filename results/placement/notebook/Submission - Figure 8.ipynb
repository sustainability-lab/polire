{
 "cells": [
  {
   "cell_type": "markdown",
   "metadata": {},
   "source": [
    "## Standard Imports"
   ]
  },
  {
   "cell_type": "code",
   "execution_count": 2,
   "metadata": {},
   "outputs": [],
   "source": [
    "import pandas as pd\n",
    "import numpy as np\n",
    "from IPython.display import clear_output\n",
    "import matplotlib.pyplot as plt\n",
    "from matplotlib.animation import FuncAnimation\n",
    "from polire.placement import NottDuns, Stationary"
   ]
  },
  {
   "cell_type": "markdown",
   "metadata": {},
   "source": [
    "## Data Loading"
   ]
  },
  {
   "cell_type": "code",
   "execution_count": 3,
   "metadata": {},
   "outputs": [
    {
     "name": "stdout",
     "output_type": "stream",
     "text": [
      "(181, 52) 181 (52, 52)\n",
      "(62, 52) 62 (52, 52)\n"
     ]
    }
   ],
   "source": [
    "tdata = pd.read_pickle('../dataset/TempData.pickle')\n",
    "tdata = tdata['2004-02-28':'2004-03-01']\n",
    "loc_df = pd.read_csv('../dataset/mote_locs.txt', sep=' ',names=[0,'X','Y']).set_index(0)\n",
    "\n",
    "M = 22\n",
    "cross_df = pd.crosstab(tdata.index, tdata.ID, tdata.Temp, aggfunc=lambda x:list(x)[0])\n",
    "cross_df = cross_df.resample(str(M)+'min').mean().dropna(how='any')\n",
    "print(cross_df.shape, len(cross_df.dropna()), cross_df.cov().dropna().shape)\n",
    "\n",
    "G_all = (((cross_df - cross_df.mean()).T).dot(cross_df - cross_df.mean())/len(cross_df)) # Estim. Cov. Mat.\n",
    "G_all_npcov = cross_df.cov()\n",
    "train_data = loc_df.loc[cross_df.columns][['X','Y']]\n",
    "train_data['Temp'] = cross_df.mean()\n",
    "\n",
    "ttdata = pd.read_pickle('/home/patel_zeel/Krause-NOSP-Replication/Data/TempData.pickle')\n",
    "ttdata = ttdata['2004-03-02':'2004-03-02']\n",
    "cross_df = pd.crosstab(ttdata.index, ttdata.ID, ttdata.Temp, aggfunc=lambda x:list(x)[0])\n",
    "cross_df = cross_df.resample(str(M)+'min').mean().dropna(how='any')\n",
    "print(cross_df.shape, len(cross_df.dropna()), cross_df.cov().dropna().shape)\n",
    "\n",
    "G_all_test = (((cross_df - cross_df.mean(axis=0)).T).dot(cross_df - cross_df.mean(axis=0))/len(cross_df))\n",
    "G_all_test_npcov = cross_df.cov()\n",
    "test_data = loc_df.loc[cross_df.columns][['X','Y']]\n",
    "test_data['Temp'] = cross_df.mean()"
   ]
  },
  {
   "cell_type": "markdown",
   "metadata": {},
   "source": [
    "## Destroying ID to maintain consistency between pandas and numpy"
   ]
  },
  {
   "cell_type": "code",
   "execution_count": 4,
   "metadata": {},
   "outputs": [],
   "source": [
    "train_data = train_data.reset_index(drop=True)\n",
    "G_all = pd.DataFrame(G_all.values, index=range(len(train_data)), columns=range(len(train_data)))\n",
    "\n",
    "#train_data = train_data.iloc[:16]\n",
    "#G_all = G_all.iloc[:16, :16]\n",
    "\n",
    "test_data = test_data.reset_index(drop=True)\n",
    "G_all_test = pd.DataFrame(G_all_test.values, index=range(len(test_data)), columns=range(len(test_data)))"
   ]
  },
  {
   "cell_type": "markdown",
   "metadata": {},
   "source": [
    "## Visualize train sensor locations in the 2D space"
   ]
  },
  {
   "cell_type": "code",
   "execution_count": 5,
   "metadata": {},
   "outputs": [
    {
     "name": "stdout",
     "output_type": "stream",
     "text": [
      "(10, 3) (10, 10)\n"
     ]
    },
    {
     "data": {
      "text/plain": [
       "<matplotlib.collections.PathCollection at 0x7fe5a7977710>"
      ]
     },
     "execution_count": 5,
     "metadata": {},
     "output_type": "execute_result"
    },
    {
     "data": {
      "image/png": "[encoded data removed]",
      "text/plain": [
       "<Figure size 432x288 with 1 Axes>"
      ]
     },
     "metadata": {
      "needs_background": "light"
     },
     "output_type": "display_data"
    }
   ],
   "source": [
    "Seed = 42\n",
    "train_sample = train_data.sample(10, random_state=Seed)\n",
    "G = G_all.loc[train_sample.index, train_sample.index]\n",
    "print(train_sample.shape, G.shape)\n",
    "plt.scatter(train_sample['X'], train_sample['Y'])\n",
    "\n",
    "X_train = train_sample[['X','Y']].values\n",
    "y_train = train_sample[['Temp']].values.reshape(-1,1)"
   ]
  },
  {
   "cell_type": "markdown",
   "metadata": {},
   "source": [
    "## Learning the NS kernel"
   ]
  },
  {
   "cell_type": "code",
   "execution_count": 8,
   "metadata": {},
   "outputs": [],
   "source": [
    "nonStat = NottDuns(N=5, eta=1)\n",
    "nonStat.fit(X_train, y_train, G.values)"
   ]
  },
  {
   "cell_type": "markdown",
   "metadata": {},
   "source": [
    "## Greedy algorithm for Near Optimal Sensor Placement!"
   ]
  },
  {
   "cell_type": "code",
   "execution_count": 9,
   "metadata": {
    "scrolled": true
   },
   "outputs": [],
   "source": [
    "NN = 30\n",
    "Pilot_ind = train_sample.index.tolist()\n",
    "A_ind_MI, _ = nonStat.place(train_data[['X', 'Y']].values, Pilot_ind, N=NN, method='MI')\n",
    "A_ind_Var, _ = nonStat.place(train_data[['X', 'Y']].values, Pilot_ind, N=NN, method='Entropy')\n",
    "MI = nonStat.MI\n",
    "Var = nonStat.Var"
   ]
  },
  {
   "cell_type": "markdown",
   "metadata": {},
   "source": [
    "## RMSE plot for Non-stationary interpolator"
   ]
  },
  {
   "cell_type": "code",
   "execution_count": 10,
   "metadata": {
    "scrolled": true
   },
   "outputs": [
    {
     "name": "stdout",
     "output_type": "stream",
     "text": [
      "6 29\n"
     ]
    }
   ],
   "source": [
    "Gran = 10\n",
    "Eta = 100\n",
    "NN = lambda x: max(5, len(x)//3)\n",
    "MI_rms = np.zeros((len(MI), len(cross_df.index[::Gran])))\n",
    "Var_rms = np.zeros((len(Var), len(cross_df.index[::Gran])))\n",
    "for iter_i, epoch_id in enumerate(cross_df.index[::Gran]):\n",
    "    for sens_i in range(len(MI)):\n",
    "        clear_output(wait=True)\n",
    "        print(iter_i, sens_i)\n",
    "        test_tmp = cross_df.loc[epoch_id].reset_index(drop=True)\n",
    "        #rint(test_tmp)\n",
    "        # Predict and save RMSE\n",
    "        \n",
    "        # For Variance based locations ------------------\n",
    "\n",
    "        GP_train_X = train_data.loc[A_ind_Var[:sens_i]+Pilot_ind][['X','Y']].values\n",
    "        GP_train_Y = test_tmp.loc[A_ind_Var[:sens_i]+Pilot_ind].values\n",
    "        GP_test_X = train_data.drop(A_ind_Var[:sens_i]+Pilot_ind, axis=0)[['X','Y']].values\n",
    "        GP_test_Y = test_tmp.drop(A_ind_Var[:sens_i]+Pilot_ind, axis=0).values\n",
    "\n",
    "        G_test = G_all_test.loc[A_ind_Var[:sens_i]+Pilot_ind, A_ind_Var[:sens_i]+Pilot_ind].values\n",
    "            \n",
    "        model = NottDuns(N=NN(GP_train_X), eta=Eta, kernel_name='m32')\n",
    "        model.fit(GP_train_X, GP_train_Y, G_test)\n",
    "        GP_predict_Y = model.predict(GP_test_X)\n",
    "        #GP_predict_Y = 18 + cov_func(GP_test_X, GP_train_X).dot(np.linalg.pinv(cov_func(GP_train_X, GP_train_X))).dot(GP_train_Y - GP_train_Y.mean())\n",
    "        error = GP_test_Y - GP_predict_Y\n",
    "        rms = np.sqrt(np.mean(error**2))\n",
    "        Var_rms[sens_i, iter_i] = rms\n",
    "        \n",
    "        # For MI based locations ------------------\n",
    "        GP_train_X = train_data.loc[A_ind_MI[:sens_i]+Pilot_ind][['X','Y']].values \n",
    "        GP_train_Y = test_tmp.loc[A_ind_MI[:sens_i]+Pilot_ind].values\n",
    "        GP_test_X = train_data.drop(A_ind_MI[:sens_i]+Pilot_ind, axis=0)[['X','Y']].values\n",
    "        GP_test_Y = test_tmp.drop(A_ind_MI[:sens_i]+Pilot_ind, axis=0).values\n",
    "\n",
    "        G_test = G_all_test.loc[A_ind_MI[:sens_i]+Pilot_ind, A_ind_MI[:sens_i]+Pilot_ind].values\n",
    "        \n",
    "        model = NottDuns(N=NN(GP_train_X), eta=Eta, kernel_name='m32')\n",
    "        model.fit(GP_train_X, GP_train_Y, G_test)\n",
    "        GP_predict_Y = model.predict(GP_test_X)\n",
    "        #GP_predict_Y = 18 + cov_func(GP_test_X, GP_train_X).dot(np.linalg.pinv(cov_func(GP_train_X, GP_train_X))).dot(GP_train_Y - GP_train_Y.mean())\n",
    "        error = GP_test_Y - GP_predict_Y\n",
    "        rms = np.sqrt(np.mean(error**2))\n",
    "        MI_rms[sens_i, iter_i] = rms"
   ]
  },
  {
   "cell_type": "code",
   "execution_count": 11,
   "metadata": {},
   "outputs": [
    {
     "data": {
      "image/png": "[encoded data removed]",
      "text/plain": [
       "<Figure size 432x288 with 1 Axes>"
      ]
     },
     "metadata": {
      "needs_background": "light"
     },
     "output_type": "display_data"
    }
   ],
   "source": [
    "MM = 3\n",
    "MI_rms_mean = MI_rms.mean(axis=1)\n",
    "Var_rms_mean = Var_rms.mean(axis=1)\n",
    "\n",
    "fig, ax = plt.subplots()\n",
    "tmp = ax.plot(range(len(MI_rms_mean)), MI_rms_mean, 'go-', label='MI', markersize=MM)\n",
    "\n",
    "tmp = ax.plot(range(len(Var_rms_mean)), Var_rms_mean, 'ro-', label='Entropy', markersize=MM)\n",
    "\n",
    "ax.set_xlabel('Number of sensors\\n(a) NS kernel')\n",
    "ax.set_ylabel('RMSE\\n(Lower is better)')\n",
    "ax.legend()\n",
    "plt.tight_layout()\n",
    "plt.show()"
   ]
  },
  {
   "cell_type": "markdown",
   "metadata": {},
   "source": [
    "## Learning the stationary model"
   ]
  },
  {
   "cell_type": "code",
   "execution_count": 12,
   "metadata": {},
   "outputs": [
    {
     "name": "stdout",
     "output_type": "stream",
     "text": [
      "Optimization restart 1/1, f = 18.31987830195559\n"
     ]
    }
   ],
   "source": [
    "Stat = Stationary(1,'m32',True)\n",
    "Stat.fit(X_train, y_train)"
   ]
  },
  {
   "cell_type": "markdown",
   "metadata": {},
   "source": [
    "## Greedy placement"
   ]
  },
  {
   "cell_type": "code",
   "execution_count": 13,
   "metadata": {},
   "outputs": [],
   "source": [
    "NN = 30\n",
    "Pilot_ind = train_sample.index.tolist()\n",
    "A_ind_MI, _ = Stat.place(train_data[['X', 'Y']].values, Pilot_ind, N=NN, method='MI')\n",
    "A_ind_Var, _ = Stat.place(train_data[['X', 'Y']].values, Pilot_ind, N=NN, method='Entropy')\n",
    "MI = Stat.MI\n",
    "Var = Stat.Var"
   ]
  },
  {
   "cell_type": "markdown",
   "metadata": {},
   "source": [
    "## RMSE plot"
   ]
  },
  {
   "cell_type": "code",
   "execution_count": 14,
   "metadata": {},
   "outputs": [
    {
     "name": "stdout",
     "output_type": "stream",
     "text": [
      "6 29\n",
      "Optimization restart 1/1, f = 38.307975396807876\n",
      "Optimization restart 1/1, f = 31.834445962590188\n"
     ]
    }
   ],
   "source": [
    "Gran = 10\n",
    "MI_rms = np.zeros((len(MI), len(cross_df.index[::Gran])))\n",
    "Var_rms = np.zeros((len(Var), len(cross_df.index[::Gran])))\n",
    "for iter_i, epoch_id in enumerate(cross_df.index[::Gran]):\n",
    "    for sens_i in range(len(MI)):\n",
    "        clear_output(wait=True)\n",
    "        print(iter_i, sens_i)\n",
    "        test_tmp = cross_df.loc[epoch_id].reset_index(drop=True)\n",
    "        # Predict and save RMSE\n",
    "        \n",
    "        # For Variance based locations ------------------\n",
    "\n",
    "        GP_train_X = train_data.loc[A_ind_Var[:sens_i]+Pilot_ind][['X','Y']].values\n",
    "        GP_train_Y = test_tmp.loc[A_ind_Var[:sens_i]+Pilot_ind].values.reshape(-1,1)\n",
    "        GP_test_X = train_data.drop(A_ind_Var[:sens_i]+Pilot_ind, axis=0)[['X','Y']].values\n",
    "        GP_test_Y = test_tmp.drop(A_ind_Var[:sens_i]+Pilot_ind, axis=0).values.reshape(-1,1)\n",
    "\n",
    "        Stat = Stationary(1, 'm32', True)\n",
    "        Stat.fit(GP_train_X, GP_train_Y)\n",
    "        GP_predict_Y = Stat.predict(GP_test_X)\n",
    "        error = GP_test_Y - GP_predict_Y\n",
    "        rms = np.sqrt(np.mean(error**2))\n",
    "        Var_rms[sens_i, iter_i] = rms\n",
    "        \n",
    "        # For MI based locations ------------------\n",
    "        GP_train_X = train_data.loc[A_ind_MI[:sens_i]+Pilot_ind][['X','Y']].values \n",
    "        GP_train_Y = test_tmp.loc[A_ind_MI[:sens_i]+Pilot_ind].values.reshape(-1,1)\n",
    "        GP_test_X = train_data.drop(A_ind_MI[:sens_i]+Pilot_ind, axis=0)[['X','Y']].values\n",
    "        GP_test_Y = test_tmp.drop(A_ind_MI[:sens_i]+Pilot_ind, axis=0).values.reshape(-1,1)\n",
    "\n",
    "        Stat = Stationary(1, 'm32', True)\n",
    "        Stat.fit(GP_train_X, GP_train_Y)\n",
    "        GP_predict_Y = Stat.predict(GP_test_X)\n",
    "\n",
    "        error = GP_test_Y - GP_predict_Y\n",
    "        rms = np.sqrt(np.mean(error**2))\n",
    "        MI_rms[sens_i, iter_i] = rms"
   ]
  },
  {
   "cell_type": "code",
   "execution_count": 15,
   "metadata": {},
   "outputs": [
    {
     "data": {
      "image/png": "[encoded data removed]",
      "text/plain": [
       "<Figure size 432x288 with 1 Axes>"
      ]
     },
     "metadata": {
      "needs_background": "light"
     },
     "output_type": "display_data"
    }
   ],
   "source": [
    "MM = 3\n",
    "MI_rms_mean = MI_rms.mean(axis=1)\n",
    "Var_rms_mean = Var_rms.mean(axis=1)\n",
    "\n",
    "fig, ax = plt.subplots()\n",
    "tmp = ax.plot(range(len(MI_rms_mean)), MI_rms_mean, 'go-', label='MI', markersize=MM)\n",
    "tmp = ax.plot(range(len(Var_rms_mean)), Var_rms_mean, 'ro-', label='Entropy', markersize=MM)\n",
    "ax.set_xlabel('Number of sensors')\n",
    "ax.set_ylabel('RMSE\\n(Lower is better)')\n",
    "ax.legend()\n",
    "plt.tight_layout()\n",
    "plt.show()"
   ]
  },
  {
   "cell_type": "code",
   "execution_count": null,
   "metadata": {},
   "outputs": [],
   "source": []
  }
 ],
 "metadata": {
  "kernelspec": {
   "display_name": "Python 3",
   "language": "python",
   "name": "python3"
  },
  "language_info": {
   "codemirror_mode": {
    "name": "ipython",
    "version": 3
   },
   "file_extension": ".py",
   "mimetype": "text/x-python",
   "name": "python",
   "nbconvert_exporter": "python",
   "pygments_lexer": "ipython3",
   "version": "3.7.4"
  }
 },
 "nbformat": 4,
 "nbformat_minor": 2
}
