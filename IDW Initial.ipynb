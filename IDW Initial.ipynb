{
 "cells": [
  {
   "cell_type": "markdown",
   "metadata": {},
   "source": [
    "## Inverse Distance Weighting (IDW) Interpolation"
   ]
  },
  {
   "cell_type": "markdown",
   "metadata": {},
   "source": [
    "Let us suppose we have a data that shows the variation of one quantity of interest across space.\n",
    "This could be equivalently viewed as { ($\\vec{x_1}, y_1)$,$(\\vec{x_2}, y_2)$,$(\\vec{x_3}, y_3)$, ...}, where the $\\vec{x_i}$'s represent the coordinates of the points where we have data and the $y_i$'s are the actual data at those points. <br><br>\n",
    "We would like to perform an interpolation using these data points such that a few things are satisifed.\n",
    "1. The interpolation is exact - the value at the known data points is the same as the estimated value, and \n",
    "2. We would want far away points from a given source data point to receive less importance than nearby points.\n",
    "3. Wikipedia has an excellent article on IDW. I am linking it [here](https://en.wikipedia.org/wiki/Inverse_distance_weighting)."
   ]
  },
  {
   "cell_type": "code",
   "execution_count": 5,
   "metadata": {},
   "outputs": [],
   "source": [
    "def (X, y, extent,exponent = 2,  resolution='high', coordinate_type='euclidean'):\n",
    "    \"\"\"\n",
    "        Here X is the set of spatial locations - Usually assumed to be Lat-Long\n",
    "        To be extended to higher dimenstions y - estimated value , exponenet - how\n",
    "        much weight to assign to far off locations to be estimated for each data point, \n",
    "        extent - interpolate over a grid - what is xmax xmin ymax ymin\n",
    "    \"\"\"\n",
    "    if coordinate_type = 'latlong_small':\n",
    "        \"\"\"\n",
    "            Assume that the Earth is a Sphere, and use polar coordinates\n",
    "            $| \\vec{r_2}− \\vec{r_1}| ≈ \\text{R }\\times \\sqrt[]{(Lat_2 - Lat_1)^{2} + (Long_2 - Long_1)^{2}}$\n",
    "        \"\"\"\n",
    "    if coordinate_type = 'latlong_large':\n",
    "        \"\"\"\n",
    "            Code to be written after understanding all the projections.\n",
    "        \"\"\"\n",
    "        return\n",
    "    \n",
    "    \n",
    "    return "
   ]
  },
  {
   "cell_type": "markdown",
   "metadata": {},
   "source": [
    "$| \\vec{r_2}− \\vec{r_1}| ≈ \\text{R }\\times \\sqrt[]{(Lat_2 - Lat_1)^{2} + (Long_2 - Long_1)^{2}}$"
   ]
  },
  {
   "cell_type": "code",
   "execution_count": 6,
   "metadata": {},
   "outputs": [],
   "source": [
    "import numpy as np\n",
    "x_arr = np.linspace(0,10,11)\n",
    "y_arr = np.linspace(0,10,10)\n",
    "import pandas as pd"
   ]
  },
  {
   "cell_type": "code",
   "execution_count": 7,
   "metadata": {},
   "outputs": [],
   "source": [
    "df = pd.read_csv('30-03-18.csv')"
   ]
  },
  {
   "cell_type": "code",
   "execution_count": 9,
   "metadata": {},
   "outputs": [],
   "source": [
    "df = df.drop('Unnamed: 0',axis=1)"
   ]
  },
  {
   "cell_type": "code",
   "execution_count": 10,
   "metadata": {},
   "outputs": [
    {
     "data": {
      "text/html": [
       "<div>\n",
       "<style scoped>\n",
       "    .dataframe tbody tr th:only-of-type {\n",
       "        vertical-align: middle;\n",
       "    }\n",
       "\n",
       "    .dataframe tbody tr th {\n",
       "        vertical-align: top;\n",
       "    }\n",
       "\n",
       "    .dataframe thead th {\n",
       "        text-align: right;\n",
       "    }\n",
       "</style>\n",
       "<table border=\"1\" class=\"dataframe\">\n",
       "  <thead>\n",
       "    <tr style=\"text-align: right;\">\n",
       "      <th></th>\n",
       "      <th>location</th>\n",
       "      <th>parameter</th>\n",
       "      <th>value</th>\n",
       "      <th>latitude</th>\n",
       "      <th>longitude</th>\n",
       "    </tr>\n",
       "  </thead>\n",
       "  <tbody>\n",
       "    <tr>\n",
       "      <th>0</th>\n",
       "      <td>Jawaharlal Nehru Stadium, Delhi - DPCC</td>\n",
       "      <td>pm25</td>\n",
       "      <td>194.0</td>\n",
       "      <td>28.581197</td>\n",
       "      <td>77.234291</td>\n",
       "    </tr>\n",
       "    <tr>\n",
       "      <th>1</th>\n",
       "      <td>Sonia Vihar, Delhi - DPCC</td>\n",
       "      <td>pm25</td>\n",
       "      <td>267.0</td>\n",
       "      <td>28.739434</td>\n",
       "      <td>77.245721</td>\n",
       "    </tr>\n",
       "    <tr>\n",
       "      <th>2</th>\n",
       "      <td>Narela, Delhi - DPCC</td>\n",
       "      <td>pm25</td>\n",
       "      <td>273.0</td>\n",
       "      <td>28.822931</td>\n",
       "      <td>77.101961</td>\n",
       "    </tr>\n",
       "    <tr>\n",
       "      <th>3</th>\n",
       "      <td>Najafgarh, Delhi - DPCC</td>\n",
       "      <td>pm25</td>\n",
       "      <td>129.0</td>\n",
       "      <td>28.620806</td>\n",
       "      <td>76.991463</td>\n",
       "    </tr>\n",
       "    <tr>\n",
       "      <th>4</th>\n",
       "      <td>NSIT Dwarka, New Delhi - CPCB</td>\n",
       "      <td>pm25</td>\n",
       "      <td>176.0</td>\n",
       "      <td>28.609090</td>\n",
       "      <td>77.032541</td>\n",
       "    </tr>\n",
       "  </tbody>\n",
       "</table>\n",
       "</div>"
      ],
      "text/plain": [
       "                                 location parameter  value   latitude  \\\n",
       "0  Jawaharlal Nehru Stadium, Delhi - DPCC      pm25  194.0  28.581197   \n",
       "1               Sonia Vihar, Delhi - DPCC      pm25  267.0  28.739434   \n",
       "2                    Narela, Delhi - DPCC      pm25  273.0  28.822931   \n",
       "3                 Najafgarh, Delhi - DPCC      pm25  129.0  28.620806   \n",
       "4           NSIT Dwarka, New Delhi - CPCB      pm25  176.0  28.609090   \n",
       "\n",
       "   longitude  \n",
       "0  77.234291  \n",
       "1  77.245721  \n",
       "2  77.101961  \n",
       "3  76.991463  \n",
       "4  77.032541  "
      ]
     },
     "execution_count": 10,
     "metadata": {},
     "output_type": "execute_result"
    }
   ],
   "source": [
    "df.head()"
   ]
  },
  {
   "cell_type": "code",
   "execution_count": 11,
   "metadata": {},
   "outputs": [],
   "source": [
    "y_min = df['latitude'].min()-0.2\n",
    "y_max = df['latitude'].max()+0.2\n",
    "x_min = df['longitude'].min()-0.2\n",
    "x_max = df['longitude'].max()+0.2"
   ]
  },
  {
   "cell_type": "code",
   "execution_count": 12,
   "metadata": {},
   "outputs": [],
   "source": [
    "x_arr = np.linspace(x_min,x_max,100)"
   ]
  },
  {
   "cell_type": "code",
   "execution_count": 13,
   "metadata": {},
   "outputs": [],
   "source": [
    "y_arr = np.linspace(y_min,y_max,100)"
   ]
  },
  {
   "cell_type": "code",
   "execution_count": 14,
   "metadata": {},
   "outputs": [],
   "source": [
    "xx,yy = np.meshgrid(x_arr,y_arr)"
   ]
  },
  {
   "cell_type": "code",
   "execution_count": 15,
   "metadata": {},
   "outputs": [],
   "source": [
    "data = np.zeros((len(xx),len(yy)))"
   ]
  },
  {
   "cell_type": "code",
   "execution_count": 16,
   "metadata": {},
   "outputs": [],
   "source": [
    "new_arr = np.array(df[['longitude','latitude','value']])"
   ]
  },
  {
   "cell_type": "code",
   "execution_count": 17,
   "metadata": {},
   "outputs": [
    {
     "data": {
      "text/plain": [
       "array([ 77.234291,  28.581197, 194.      ])"
      ]
     },
     "execution_count": 17,
     "metadata": {},
     "output_type": "execute_result"
    }
   ],
   "source": [
    "new_arr[0]"
   ]
  },
  {
   "cell_type": "code",
   "execution_count": 18,
   "metadata": {},
   "outputs": [],
   "source": [
    "new = []\n",
    "for points in new_arr:\n",
    "    mindist = np.inf\n",
    "    val = 0\n",
    "    for j in range(len(yy)):\n",
    "        temp = yy[j][0]\n",
    "        for i in range(len(xx[0])):\n",
    "            dist = np.linalg.norm(np.array([xx[0][i],temp]) - points[:2])\n",
    "            if dist<mindist:\n",
    "                mindist = dist\n",
    "                val = (i,j)\n",
    "    new.append((points,val))"
   ]
  },
  {
   "cell_type": "code",
   "execution_count": 20,
   "metadata": {},
   "outputs": [],
   "source": [
    "new_grid = np.zeros((len(xx),len(yy)))\n",
    "for i in range(len(new)):\n",
    "    x = new[i][1][0]\n",
    "    y = new[i][1][1]\n",
    "    new_grid[x][y] = new[i][0][2]"
   ]
  },
  {
   "cell_type": "code",
   "execution_count": 39,
   "metadata": {},
   "outputs": [
    {
     "data": {
      "text/plain": [
       "array([77.22445, 28.63576, 96.     ])"
      ]
     },
     "execution_count": 39,
     "metadata": {},
     "output_type": "execute_result"
    }
   ],
   "source": [
    "points"
   ]
  },
  {
   "cell_type": "code",
   "execution_count": 37,
   "metadata": {},
   "outputs": [
    {
     "data": {
      "text/plain": [
       "array([[76.791463  , 76.79879251, 76.80612201, ..., 77.50242499,\n",
       "        77.50975449, 77.517084  ],\n",
       "       [76.791463  , 76.79879251, 76.80612201, ..., 77.50242499,\n",
       "        77.50975449, 77.517084  ],\n",
       "       [76.791463  , 76.79879251, 76.80612201, ..., 77.50242499,\n",
       "        77.50975449, 77.517084  ],\n",
       "       ...,\n",
       "       [76.791463  , 76.79879251, 76.80612201, ..., 77.50242499,\n",
       "        77.50975449, 77.517084  ],\n",
       "       [76.791463  , 76.79879251, 76.80612201, ..., 77.50242499,\n",
       "        77.50975449, 77.517084  ],\n",
       "       [76.791463  , 76.79879251, 76.80612201, ..., 77.50242499,\n",
       "        77.50975449, 77.517084  ]])"
      ]
     },
     "execution_count": 37,
     "metadata": {},
     "output_type": "execute_result"
    }
   ],
   "source": [
    "xx"
   ]
  },
  {
   "cell_type": "code",
   "execution_count": 38,
   "metadata": {},
   "outputs": [
    {
     "data": {
      "text/plain": [
       "array([[28.29968   , 28.29968   , 28.29968   , ..., 28.29968   ,\n",
       "        28.29968   , 28.29968   ],\n",
       "       [28.30698557, 28.30698557, 28.30698557, ..., 28.30698557,\n",
       "        28.30698557, 28.30698557],\n",
       "       [28.31429113, 28.31429113, 28.31429113, ..., 28.31429113,\n",
       "        28.31429113, 28.31429113],\n",
       "       ...,\n",
       "       [29.00831987, 29.00831987, 29.00831987, ..., 29.00831987,\n",
       "        29.00831987, 29.00831987],\n",
       "       [29.01562543, 29.01562543, 29.01562543, ..., 29.01562543,\n",
       "        29.01562543, 29.01562543],\n",
       "       [29.022931  , 29.022931  , 29.022931  , ..., 29.022931  ,\n",
       "        29.022931  , 29.022931  ]])"
      ]
     },
     "execution_count": 38,
     "metadata": {},
     "output_type": "execute_result"
    }
   ],
   "source": [
    "yy"
   ]
  },
  {
   "cell_type": "markdown",
   "metadata": {},
   "source": [
    "We are storing the values in the grid. \n",
    "How do we interpolate next?\n",
    "Oh! Of course! we know the distance between latitude and longitude"
   ]
  },
  {
   "cell_type": "code",
   "execution_count": 30,
   "metadata": {},
   "outputs": [
    {
     "data": {
      "text/plain": [
       "96.0"
      ]
     },
     "execution_count": 30,
     "metadata": {},
     "output_type": "execute_result"
    }
   ],
   "source": [
    "new_grid[x][y]"
   ]
  }
 ],
 "metadata": {
  "kernelspec": {
   "display_name": "Python 3",
   "language": "python",
   "name": "python3"
  },
  "language_info": {
   "codemirror_mode": {
    "name": "ipython",
    "version": 3
   },
   "file_extension": ".py",
   "mimetype": "text/x-python",
   "name": "python",
   "nbconvert_exporter": "python",
   "pygments_lexer": "ipython3",
   "version": "3.6.8"
  }
 },
 "nbformat": 4,
 "nbformat_minor": 2
}
